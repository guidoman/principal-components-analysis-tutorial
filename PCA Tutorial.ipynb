{
 "cells": [
  {
   "cell_type": "markdown",
   "metadata": {},
   "source": [
    "# Principal component analysis tutorial\n",
    "This notebook is a Python implementation of *Chapter 3* of [this tutorial](http://www.cs.otago.ac.nz/cosc453/student_tutorials/principal_components.pdf).\n",
    "\n",
    "This tutorial is designed to give the reader an understanding of Principal Components\n",
    "Analysis (PCA)."
   ]
  },
  {
   "cell_type": "code",
   "execution_count": 1,
   "metadata": {
    "collapsed": true
   },
   "outputs": [],
   "source": [
    "import numpy as np\n",
    "import pandas as pd"
   ]
  },
  {
   "cell_type": "code",
   "execution_count": 2,
   "metadata": {
    "collapsed": true
   },
   "outputs": [],
   "source": [
    "import seaborn as sns\n",
    "import matplotlib.pyplot as plt\n",
    "%matplotlib inline\n",
    "sns.set(style=\"white\", color_codes=True)"
   ]
  },
  {
   "cell_type": "code",
   "execution_count": 3,
   "metadata": {
    "collapsed": false
   },
   "outputs": [],
   "source": [
    "def draw_scatter_plot(x, y, limits):\n",
    "    f, ax = plt.subplots()\n",
    "    plt.scatter(x, y, marker='x')\n",
    "    ax.set_xlim(limits)\n",
    "    ax.set_ylim(limits)\n",
    "    plt.gca().set_aspect('equal', adjustable='box')"
   ]
  },
  {
   "cell_type": "markdown",
   "metadata": {},
   "source": [
    "## Data\n",
    "This data set has only got 2\n",
    "dimensions, and the reason why is that I can provide plots of the\n",
    "data to show what the PCA analysis is doing at each step."
   ]
  },
  {
   "cell_type": "code",
   "execution_count": 4,
   "metadata": {
    "collapsed": true
   },
   "outputs": [],
   "source": [
    "x = [2.5, 0.5, 2.2, 1.9, 3.1, 2.3, 2.0, 1.0, 1.5, 1.1]"
   ]
  },
  {
   "cell_type": "code",
   "execution_count": 5,
   "metadata": {
    "collapsed": true
   },
   "outputs": [],
   "source": [
    "y = [2.4, 0.7, 2.9, 2.2, 3.0, 2.7, 1.6, 1.1, 1.6, 0.9]"
   ]
  },
  {
   "cell_type": "code",
   "execution_count": 6,
   "metadata": {
    "collapsed": false
   },
   "outputs": [
    {
     "data": {
      "image/png": "[encoded data removed]",
      "text/plain": [
       "<matplotlib.figure.Figure at 0x7fcaa25b6c50>"
      ]
     },
     "metadata": {},
     "output_type": "display_data"
    }
   ],
   "source": [
    "draw_scatter_plot(x, y, [0, 4])"
   ]
  },
  {
   "cell_type": "code",
   "execution_count": 7,
   "metadata": {
    "collapsed": false
   },
   "outputs": [],
   "source": [
    "data = list(zip(x, y))\n",
    "data = pd.DataFrame(data=data, columns=['x', 'y'])"
   ]
  },
  {
   "cell_type": "markdown",
   "metadata": {},
   "source": [
    "## Subtract the mean\n",
    "For PCA to work properly, you have to subtract the mean from each of the data dimensions."
   ]
  },
  {
   "cell_type": "code",
   "execution_count": 8,
   "metadata": {
    "collapsed": false
   },
   "outputs": [],
   "source": [
    "adjusted_data = data - data.mean(axis=0)"
   ]
  },
  {
   "cell_type": "code",
   "execution_count": 9,
   "metadata": {
    "collapsed": false
   },
   "outputs": [
    {
     "data": {
      "image/png": "[encoded data removed]",
      "text/plain": [
       "<matplotlib.figure.Figure at 0x7fca9eda4470>"
      ]
     },
     "metadata": {},
     "output_type": "display_data"
    }
   ],
   "source": [
    "draw_scatter_plot(adjusted_data['x'], adjusted_data['y'], [-2, 2])"
   ]
  },
  {
   "cell_type": "markdown",
   "metadata": {},
   "source": [
    "## Calculate the covariance matrix\n",
    "Standard deviation and variance only operate on 1 dimension, so that you could\n",
    "only calculate the standard deviation for each dimension of the data set independently\n",
    "of the other dimensions. However, it is useful to have a similar measure to find out how\n",
    "much the dimensions vary from the mean with respect to each other.\n",
    "\n",
    "Covariance is such a measure. Covariance is always measured between 2 dimensions."
   ]
  },
  {
   "cell_type": "markdown",
   "metadata": {},
   "source": [
    "Since the data is 2 dimensional, the covariance matrix will be 2 X 2."
   ]
  },
  {
   "cell_type": "code",
   "execution_count": 10,
   "metadata": {
    "collapsed": true
   },
   "outputs": [],
   "source": [
    "covariance_matrix = adjusted_data.cov()"
   ]
  },
  {
   "cell_type": "code",
   "execution_count": 11,
   "metadata": {
    "collapsed": false
   },
   "outputs": [
    {
     "data": {
      "text/html": [
       "<div>\n",
       "<table border=\"1\" class=\"dataframe\">\n",
       "  <thead>\n",
       "    <tr style=\"text-align: right;\">\n",
       "      <th></th>\n",
       "      <th>x</th>\n",
       "      <th>y</th>\n",
       "    </tr>\n",
       "  </thead>\n",
       "  <tbody>\n",
       "    <tr>\n",
       "      <th>x</th>\n",
       "      <td>0.616556</td>\n",
       "      <td>0.615444</td>\n",
       "    </tr>\n",
       "    <tr>\n",
       "      <th>y</th>\n",
       "      <td>0.615444</td>\n",
       "      <td>0.716556</td>\n",
       "    </tr>\n",
       "  </tbody>\n",
       "</table>\n",
       "</div>"
      ],
      "text/plain": [
       "          x         y\n",
       "x  0.616556  0.615444\n",
       "y  0.615444  0.716556"
      ]
     },
     "execution_count": 11,
     "metadata": {},
     "output_type": "execute_result"
    }
   ],
   "source": [
    "covariance_matrix"
   ]
  },
  {
   "cell_type": "markdown",
   "metadata": {},
   "source": [
    "So, since the non-diagonal elements in this covariance matrix are positive, we should\n",
    "expect that both the x and y variable increase together."
   ]
  },
  {
   "cell_type": "markdown",
   "metadata": {},
   "source": [
    "## Calculate the eigenvectors and eigenvalues of the covariance matrix\n",
    "You should first know that eigenvectors\n",
    "can only be found for square matrices. And, not every square matrix has eigenvectors.\n",
    "And, given an n X n matrix that does have eigenvectors, there are n of them.\n",
    "\n",
    "Another property of eigenvectors is that even if I scale the vector by some amount\n",
    "before I multiply it, I still get the same multiple of it as a result. This\n",
    "is because if you scale a vector by some amount, all you are doing is making it longer, not changing it’s direction.\n",
    "\n",
    "Lastly, all the eigenvectors of a matrix are perpendicular,\n",
    "i.e. at right angles to each other, no matter how many dimensions you have."
   ]
  },
  {
   "cell_type": "markdown",
   "metadata": {},
   "source": [
    "Since the covariance matrix is square, we can calculate the eigenvectors and eigenvalues\n",
    "for this matrix. These are rather important, as they tell us useful information about\n",
    "our data."
   ]
  },
  {
   "cell_type": "code",
   "execution_count": 12,
   "metadata": {
    "collapsed": false
   },
   "outputs": [],
   "source": [
    "eigenvalues, eigenvectors = np.linalg.eig(covariance_matrix)"
   ]
  },
  {
   "cell_type": "code",
   "execution_count": 13,
   "metadata": {
    "collapsed": false
   },
   "outputs": [
    {
     "data": {
      "text/plain": [
       "array([[-0.73517866, -0.6778734 ],\n",
       "       [ 0.6778734 , -0.73517866]])"
      ]
     },
     "execution_count": 13,
     "metadata": {},
     "output_type": "execute_result"
    }
   ],
   "source": [
    "eigenvectors"
   ]
  },
  {
   "cell_type": "code",
   "execution_count": 14,
   "metadata": {
    "collapsed": false
   },
   "outputs": [
    {
     "data": {
      "text/plain": [
       "array([ 0.0490834 ,  1.28402771])"
      ]
     },
     "execution_count": 14,
     "metadata": {},
     "output_type": "execute_result"
    }
   ],
   "source": [
    "eigenvalues"
   ]
  },
  {
   "cell_type": "code",
   "execution_count": 15,
   "metadata": {
    "collapsed": false
   },
   "outputs": [
    {
     "data": {
      "text/plain": [
       "array([-0.73517866,  0.6778734 ])"
      ]
     },
     "execution_count": 15,
     "metadata": {},
     "output_type": "execute_result"
    }
   ],
   "source": [
    "eigenvector_1 = eigenvectors[:,0]\n",
    "slope_1 = eigenvector_1[0] / eigenvector_1[1]\n",
    "eigenvector_1"
   ]
  },
  {
   "cell_type": "code",
   "execution_count": 16,
   "metadata": {
    "collapsed": false
   },
   "outputs": [
    {
     "data": {
      "text/plain": [
       "array([-0.6778734 , -0.73517866])"
      ]
     },
     "execution_count": 16,
     "metadata": {},
     "output_type": "execute_result"
    }
   ],
   "source": [
    "eigenvector_2 = eigenvectors[:,1]\n",
    "slope_2 = eigenvector_2[0] / eigenvector_2[1]\n",
    "eigenvector_2"
   ]
  },
  {
   "cell_type": "markdown",
   "metadata": {},
   "source": [
    "Let's draw the two eigenvectors."
   ]
  },
  {
   "cell_type": "code",
   "execution_count": 17,
   "metadata": {
    "collapsed": false
   },
   "outputs": [
    {
     "data": {
      "image/png": "[encoded data removed]",
      "text/plain": [
       "<matplotlib.figure.Figure at 0x7fca9ed5c0f0>"
      ]
     },
     "metadata": {},
     "output_type": "display_data"
    }
   ],
   "source": [
    "f, ax = plt.subplots()\n",
    "X = np.arange(-2.0, 2.0, 0.1)\n",
    "plt.plot(X, X * slope_1, 'gray')\n",
    "plt.plot(X, X * slope_2, 'black')\n",
    "\n",
    "plt.xlim(-2, 2)\n",
    "plt.ylim(-2, 2)\n",
    "plt.gca().set_aspect('equal', adjustable='box')"
   ]
  },
  {
   "cell_type": "markdown",
   "metadata": {},
   "source": [
    "## Feature vector"
   ]
  },
  {
   "cell_type": "markdown",
   "metadata": {},
   "source": [
    "The eigenvector with the highest eigenvalue is the principle component of the data set. In general, once eigenvectors are found from the covariance matrix, the next step is to order them by eigenvalue, highest to lowest."
   ]
  },
  {
   "cell_type": "markdown",
   "metadata": {},
   "source": [
    "You can decide to ignore the components of\n",
    "lesser significance. You do lose some information, but if the eigenvalues are small, you\n",
    "don’t lose much. If you leave out some components, the final data set will have less\n",
    "dimensions than the original. To be precise, if you originally have n dimensions in\n",
    "your data, and so you calculate n eigenvectors and eigenvalues, and then you choose\n",
    "only the first p eigenvectors, then the final data set has only p dimensions."
   ]
  },
  {
   "cell_type": "markdown",
   "metadata": {},
   "source": [
    "Feature vector is just a fancy name for a matrix of vectors. This is constructed by taking the eigenvectors\n",
    "that you want to keep from the list of eigenvectors, and forming a matrix with these\n",
    "eigenvectors in the columns."
   ]
  },
  {
   "cell_type": "code",
   "execution_count": 18,
   "metadata": {
    "collapsed": false
   },
   "outputs": [
    {
     "data": {
      "text/plain": [
       "array([-0.6778734 , -0.73517866])"
      ]
     },
     "execution_count": 18,
     "metadata": {},
     "output_type": "execute_result"
    }
   ],
   "source": [
    "feature_vector_reduced = eigenvectors[:, np.argmax(eigenvalues)]\n",
    "feature_vector_reduced"
   ]
  },
  {
   "cell_type": "code",
   "execution_count": 19,
   "metadata": {
    "collapsed": true
   },
   "outputs": [],
   "source": [
    "feature_vector_full = eigenvectors"
   ]
  },
  {
   "cell_type": "markdown",
   "metadata": {},
   "source": [
    "## Deriving the new data set"
   ]
  },
  {
   "cell_type": "markdown",
   "metadata": {},
   "source": [
    "We simply take the transpose of the vector and multiply it on the left of the original data set, transposed."
   ]
  },
  {
   "cell_type": "code",
   "execution_count": 20,
   "metadata": {
    "collapsed": false
   },
   "outputs": [],
   "source": [
    "trasformed_data_full = np.dot(feature_vector_full.T, adjusted_data.T)"
   ]
  },
  {
   "cell_type": "markdown",
   "metadata": {},
   "source": [
    "What will this give us? It will give us the original data solely in terms of the vectors we chose."
   ]
  },
  {
   "cell_type": "markdown",
   "metadata": {},
   "source": [
    "In the case of keeping **both eigenvectors** for the transformation, this plot is basically the original data, rotated so that the\n",
    "eigenvectors are the axes. This is understandable since we have lost no information in\n",
    "this decomposition."
   ]
  },
  {
   "cell_type": "code",
   "execution_count": 21,
   "metadata": {
    "collapsed": false
   },
   "outputs": [
    {
     "data": {
      "image/png": "[encoded data removed]",
      "text/plain": [
       "<matplotlib.figure.Figure at 0x7fca9e7c6978>"
      ]
     },
     "metadata": {},
     "output_type": "display_data"
    }
   ],
   "source": [
    "trasformed_data_full[1] # x\n",
    "trasformed_data_full[0] # y\n",
    "\n",
    "draw_scatter_plot(trasformed_data_full[1], trasformed_data_full[0], [-2, 2])"
   ]
  },
  {
   "cell_type": "markdown",
   "metadata": {},
   "source": [
    "The other transformation we can make is by taking only the eigenvector with the\n",
    "largest eigenvalue."
   ]
  },
  {
   "cell_type": "code",
   "execution_count": 22,
   "metadata": {
    "collapsed": false
   },
   "outputs": [
    {
     "data": {
      "text/plain": [
       "array([-0.82797019,  1.77758033, -0.99219749, -0.27421042, -1.67580142,\n",
       "       -0.9129491 ,  0.09910944,  1.14457216,  0.43804614,  1.22382056])"
      ]
     },
     "execution_count": 22,
     "metadata": {},
     "output_type": "execute_result"
    }
   ],
   "source": [
    "trasformed_data_reduced = np.dot(feature_vector_reduced.T, adjusted_data.T)\n",
    "trasformed_data_reduced"
   ]
  },
  {
   "cell_type": "markdown",
   "metadata": {},
   "source": [
    "This data set is exactly the\n",
    "first column of the other."
   ]
  },
  {
   "cell_type": "markdown",
   "metadata": {},
   "source": [
    "So, if you were to plot this data, it would be 1 dimensional,\n",
    "and would be points on a line in exactly the x positions of the points in the plot."
   ]
  },
  {
   "cell_type": "code",
   "execution_count": 23,
   "metadata": {
    "collapsed": false
   },
   "outputs": [
    {
     "data": {
      "image/png": "[encoded data removed]",
      "text/plain": [
       "<matplotlib.figure.Figure at 0x7fca9ed17860>"
      ]
     },
     "metadata": {},
     "output_type": "display_data"
    }
   ],
   "source": [
    "draw_scatter_plot(trasformed_data_reduced, [0] * len(trasformed_data_reduced), [-2, 2])"
   ]
  },
  {
   "cell_type": "markdown",
   "metadata": {},
   "source": [
    "## Conclusions"
   ]
  },
  {
   "cell_type": "markdown",
   "metadata": {},
   "source": [
    "We have transformed our data so that is\n",
    "expressed in terms of the patterns between them, where the patterns are the lines that\n",
    "most closely describe the relationships between the data."
   ]
  }
 ],
 "metadata": {
  "kernelspec": {
   "display_name": "Python 3",
   "language": "python",
   "name": "python3"
  },
  "language_info": {
   "codemirror_mode": {
    "name": "ipython",
    "version": 3
   },
   "file_extension": ".py",
   "mimetype": "text/x-python",
   "name": "python",
   "nbconvert_exporter": "python",
   "pygments_lexer": "ipython3",
   "version": "3.6.0"
  }
 },
 "nbformat": 4,
 "nbformat_minor": 2
}
